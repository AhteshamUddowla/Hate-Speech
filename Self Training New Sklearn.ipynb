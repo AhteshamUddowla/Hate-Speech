{
 "cells": [
  {
   "cell_type": "code",
   "execution_count": 1,
   "id": "ab083e1b",
   "metadata": {},
   "outputs": [],
   "source": [
    "import pandas as pd\n",
    "from sklearn.semi_supervised import SelfTrainingClassifier\n",
    "from sklearn.model_selection import train_test_split\n",
    "from sklearn.metrics import accuracy_score"
   ]
  },
  {
   "cell_type": "code",
   "execution_count": 2,
   "id": "a42bcfe8",
   "metadata": {},
   "outputs": [
    {
     "data": {
      "text/html": [
       "<div>\n",
       "<style scoped>\n",
       "    .dataframe tbody tr th:only-of-type {\n",
       "        vertical-align: middle;\n",
       "    }\n",
       "\n",
       "    .dataframe tbody tr th {\n",
       "        vertical-align: top;\n",
       "    }\n",
       "\n",
       "    .dataframe thead th {\n",
       "        text-align: right;\n",
       "    }\n",
       "</style>\n",
       "<table border=\"1\" class=\"dataframe\">\n",
       "  <thead>\n",
       "    <tr style=\"text-align: right;\">\n",
       "      <th></th>\n",
       "      <th>sentence</th>\n",
       "      <th>hate</th>\n",
       "      <th>category</th>\n",
       "    </tr>\n",
       "  </thead>\n",
       "  <tbody>\n",
       "    <tr>\n",
       "      <th>0</th>\n",
       "      <td>যত্তসব পাপন শালার ফাজলামী!!!!!</td>\n",
       "      <td>1</td>\n",
       "      <td>sports</td>\n",
       "    </tr>\n",
       "    <tr>\n",
       "      <th>1</th>\n",
       "      <td>পাপন শালা রে রিমান্ডে নেওয়া দরকার</td>\n",
       "      <td>1</td>\n",
       "      <td>sports</td>\n",
       "    </tr>\n",
       "    <tr>\n",
       "      <th>2</th>\n",
       "      <td>জিল্লুর রহমান স্যারের ছেলে এতো বড় জারজ হবে এটা...</td>\n",
       "      <td>1</td>\n",
       "      <td>sports</td>\n",
       "    </tr>\n",
       "    <tr>\n",
       "      <th>3</th>\n",
       "      <td>শালা লুচ্চা দেখতে পাঠার মত দেখা যায়</td>\n",
       "      <td>1</td>\n",
       "      <td>sports</td>\n",
       "    </tr>\n",
       "    <tr>\n",
       "      <th>4</th>\n",
       "      <td>তুই তো শালা গাজা খাইছচ।তুর মার হেডায় খেলবে সাকিব</td>\n",
       "      <td>1</td>\n",
       "      <td>sports</td>\n",
       "    </tr>\n",
       "  </tbody>\n",
       "</table>\n",
       "</div>"
      ],
      "text/plain": [
       "                                            sentence  hate category\n",
       "0                     যত্তসব পাপন শালার ফাজলামী!!!!!     1   sports\n",
       "1                  পাপন শালা রে রিমান্ডে নেওয়া দরকার     1   sports\n",
       "2  জিল্লুর রহমান স্যারের ছেলে এতো বড় জারজ হবে এটা...     1   sports\n",
       "3                শালা লুচ্চা দেখতে পাঠার মত দেখা যায়     1   sports\n",
       "4   তুই তো শালা গাজা খাইছচ।তুর মার হেডায় খেলবে সাকিব     1   sports"
      ]
     },
     "execution_count": 2,
     "metadata": {},
     "output_type": "execute_result"
    }
   ],
   "source": [
    "# Load the data\n",
    "df = pd.read_csv('data\\BengalihatespeechFull.csv')\n",
    "df.head()"
   ]
  },
  {
   "cell_type": "code",
   "execution_count": 3,
   "id": "eeadc14f",
   "metadata": {},
   "outputs": [],
   "source": [
    "import spacy"
   ]
  },
  {
   "cell_type": "code",
   "execution_count": 4,
   "id": "d65c6da2",
   "metadata": {},
   "outputs": [],
   "source": [
    "nlp = spacy.blank(\"bn\")"
   ]
  },
  {
   "cell_type": "code",
   "execution_count": 5,
   "id": "77981a7f",
   "metadata": {},
   "outputs": [],
   "source": [
    "def preprocess(text):\n",
    "    # remove stop words and lemmatize the text\n",
    "    doc = nlp(text)\n",
    "    \n",
    "    filtered_tokens = []\n",
    "    for token in doc:\n",
    "        if token.is_stop or token.is_punct:\n",
    "            continue\n",
    "        filtered_tokens.append(token.text)\n",
    "    \n",
    "    return \" \".join(filtered_tokens) "
   ]
  },
  {
   "cell_type": "code",
   "execution_count": 6,
   "id": "0a418a73",
   "metadata": {},
   "outputs": [],
   "source": [
    "stop_words = nlp.Defaults.stop_words"
   ]
  },
  {
   "cell_type": "code",
   "execution_count": 7,
   "id": "7cd1b4fc",
   "metadata": {},
   "outputs": [],
   "source": [
    "df['preprocessed_sentence'] = df['sentence'].apply(preprocess) "
   ]
  },
  {
   "cell_type": "code",
   "execution_count": 8,
   "id": "dfa38600",
   "metadata": {},
   "outputs": [],
   "source": [
    "import re\n",
    "\n",
    "def remove_emojis(text):\n",
    "    # Define a regex pattern for emojis\n",
    "    emoji_pattern = re.compile(\"[\"\n",
    "                               u\"\\U0001F600-\\U0001F64F\"  # emoticons\n",
    "                               u\"\\U0001F300-\\U0001F5FF\"  # symbols & pictographs\n",
    "                               u\"\\U0001F680-\\U0001F6FF\"  # transport & map symbols\n",
    "                               u\"\\U0001F700-\\U0001F77F\"  # alchemical symbols\n",
    "                               u\"\\U0001F780-\\U0001F7FF\"  # Geometric Shapes Extended\n",
    "                               u\"\\U0001F800-\\U0001F8FF\"  # Supplemental Arrows-C\n",
    "                               u\"\\U0001F900-\\U0001F9FF\"  # Supplemental Symbols and Pictographs\n",
    "                               u\"\\U0001FA00-\\U0001FA6F\"  # Chess Symbols\n",
    "                               u\"\\U0001FA70-\\U0001FAFF\"  # Symbols and Pictographs Extended-A\n",
    "                               u\"\\U00002702-\\U000027B0\"  # Dingbats\n",
    "                               u\"\\U000024C2-\\U0001F251\" \n",
    "                               \"]+\", flags=re.UNICODE)\n",
    "    return emoji_pattern.sub(r'', text).strip()"
   ]
  },
  {
   "cell_type": "code",
   "execution_count": 9,
   "id": "b1a1de15",
   "metadata": {},
   "outputs": [],
   "source": [
    "# Function to remove HTML tags\n",
    "def remove_html_tag(text):\n",
    "    br_pattern = re.compile(r'<\\s*br\\s*/?>,*,?')\n",
    "    return br_pattern.sub('', text)"
   ]
  },
  {
   "cell_type": "code",
   "execution_count": 10,
   "id": "60282896",
   "metadata": {},
   "outputs": [],
   "source": [
    "df['preprocessed_sentence'] = df['preprocessed_sentence'].apply(remove_emojis)"
   ]
  },
  {
   "cell_type": "code",
   "execution_count": 11,
   "id": "7164a072",
   "metadata": {},
   "outputs": [],
   "source": [
    "df['preprocessed_sentence'] = df['preprocessed_sentence'].apply(remove_html_tag)"
   ]
  },
  {
   "cell_type": "code",
   "execution_count": 12,
   "id": "edfb59ff",
   "metadata": {},
   "outputs": [
    {
     "data": {
      "text/html": [
       "<div>\n",
       "<style scoped>\n",
       "    .dataframe tbody tr th:only-of-type {\n",
       "        vertical-align: middle;\n",
       "    }\n",
       "\n",
       "    .dataframe tbody tr th {\n",
       "        vertical-align: top;\n",
       "    }\n",
       "\n",
       "    .dataframe thead th {\n",
       "        text-align: right;\n",
       "    }\n",
       "</style>\n",
       "<table border=\"1\" class=\"dataframe\">\n",
       "  <thead>\n",
       "    <tr style=\"text-align: right;\">\n",
       "      <th></th>\n",
       "      <th>hate</th>\n",
       "      <th>preprocessed_sentence</th>\n",
       "    </tr>\n",
       "  </thead>\n",
       "  <tbody>\n",
       "    <tr>\n",
       "      <th>0</th>\n",
       "      <td>1</td>\n",
       "      <td>যত্তসব পাপন শালার ফাজলামী</td>\n",
       "    </tr>\n",
       "    <tr>\n",
       "      <th>1</th>\n",
       "      <td>1</td>\n",
       "      <td>পাপন শালা রে রিমান্ডে দরকার</td>\n",
       "    </tr>\n",
       "    <tr>\n",
       "      <th>2</th>\n",
       "      <td>1</td>\n",
       "      <td>জিল্লুর রহমান স্যারের ছেলে এতো বড় জারজ ভাবতে প...</td>\n",
       "    </tr>\n",
       "  </tbody>\n",
       "</table>\n",
       "</div>"
      ],
      "text/plain": [
       "   hate                              preprocessed_sentence\n",
       "0     1                          যত্তসব পাপন শালার ফাজলামী\n",
       "1     1                        পাপন শালা রে রিমান্ডে দরকার\n",
       "2     1  জিল্লুর রহমান স্যারের ছেলে এতো বড় জারজ ভাবতে প..."
      ]
     },
     "execution_count": 12,
     "metadata": {},
     "output_type": "execute_result"
    }
   ],
   "source": [
    "df = df.drop(['sentence', 'category'], axis=1)\n",
    "df.head(3)"
   ]
  },
  {
   "cell_type": "code",
   "execution_count": 13,
   "id": "44b59bda",
   "metadata": {},
   "outputs": [
    {
     "data": {
      "text/plain": [
       "hate                     0\n",
       "preprocessed_sentence    0\n",
       "dtype: int64"
      ]
     },
     "execution_count": 13,
     "metadata": {},
     "output_type": "execute_result"
    }
   ],
   "source": [
    "df.isnull().sum()"
   ]
  },
  {
   "cell_type": "code",
   "execution_count": 14,
   "id": "e85af843",
   "metadata": {},
   "outputs": [],
   "source": [
    "df['hate'] = df['hate'].fillna(-1)"
   ]
  },
  {
   "cell_type": "code",
   "execution_count": 15,
   "id": "042f9f59",
   "metadata": {},
   "outputs": [
    {
     "data": {
      "text/plain": [
       "hate                     0\n",
       "preprocessed_sentence    0\n",
       "dtype: int64"
      ]
     },
     "execution_count": 15,
     "metadata": {},
     "output_type": "execute_result"
    }
   ],
   "source": [
    "df.isnull().sum()"
   ]
  },
  {
   "cell_type": "code",
   "execution_count": 16,
   "id": "0658b581",
   "metadata": {},
   "outputs": [],
   "source": [
    "X = df['preprocessed_sentence']\n",
    "y = df['hate']"
   ]
  },
  {
   "cell_type": "code",
   "execution_count": 17,
   "id": "c4571f33",
   "metadata": {},
   "outputs": [
    {
     "data": {
      "text/plain": [
       "(30000, 30000)"
      ]
     },
     "execution_count": 17,
     "metadata": {},
     "output_type": "execute_result"
    }
   ],
   "source": [
    "len(X), len(y)"
   ]
  },
  {
   "cell_type": "code",
   "execution_count": 18,
   "id": "c49569b7",
   "metadata": {},
   "outputs": [
    {
     "data": {
      "text/plain": [
       "15000    0\n",
       "15001    0\n",
       "15002    0\n",
       "15003    0\n",
       "15004    0\n",
       "15005    0\n",
       "15006    0\n",
       "15007    0\n",
       "15008    0\n",
       "15009    0\n",
       "Name: hate, dtype: int64"
      ]
     },
     "execution_count": 18,
     "metadata": {},
     "output_type": "execute_result"
    }
   ],
   "source": [
    "y[15000:15010]"
   ]
  },
  {
   "cell_type": "code",
   "execution_count": 21,
   "id": "14987a20",
   "metadata": {},
   "outputs": [],
   "source": [
    "from sklearn.utils import shuffle"
   ]
  },
  {
   "cell_type": "code",
   "execution_count": 22,
   "id": "0b44b1eb",
   "metadata": {},
   "outputs": [],
   "source": [
    "X, y = shuffle(X, y, random_state=42)"
   ]
  },
  {
   "cell_type": "code",
   "execution_count": 23,
   "id": "93faa6b1",
   "metadata": {},
   "outputs": [
    {
     "data": {
      "text/plain": [
       "12842    0\n",
       "2861     1\n",
       "28840    0\n",
       "14100    0\n",
       "10723    0\n",
       "10375    0\n",
       "8801     1\n",
       "17295    0\n",
       "3322     1\n",
       "9357     1\n",
       "Name: hate, dtype: int64"
      ]
     },
     "execution_count": 23,
     "metadata": {},
     "output_type": "execute_result"
    }
   ],
   "source": [
    "y[15000:15010]"
   ]
  },
  {
   "cell_type": "code",
   "execution_count": 24,
   "id": "af8dc8c4",
   "metadata": {},
   "outputs": [
    {
     "data": {
      "text/plain": [
       "0"
      ]
     },
     "execution_count": 24,
     "metadata": {},
     "output_type": "execute_result"
    }
   ],
   "source": [
    "y[15001]"
   ]
  },
  {
   "cell_type": "code",
   "execution_count": 25,
   "id": "8aa3801d",
   "metadata": {},
   "outputs": [],
   "source": [
    "y_true = y.copy()\n",
    "y[5000:] = -1"
   ]
  },
  {
   "cell_type": "code",
   "execution_count": 26,
   "id": "2b080788",
   "metadata": {},
   "outputs": [
    {
     "data": {
      "text/plain": [
       "17636    0\n",
       "3931     1\n",
       "8387     1\n",
       "8028     1\n",
       "9482     1\n",
       "        ..\n",
       "19637    0\n",
       "18294    0\n",
       "2876     1\n",
       "2982     1\n",
       "17410    0\n",
       "Name: hate, Length: 110, dtype: int64"
      ]
     },
     "execution_count": 26,
     "metadata": {},
     "output_type": "execute_result"
    }
   ],
   "source": [
    "y[20:130]"
   ]
  },
  {
   "cell_type": "code",
   "execution_count": 30,
   "id": "9e4cbc0a",
   "metadata": {},
   "outputs": [
    {
     "data": {
      "text/plain": [
       "12842   -1\n",
       "2861    -1\n",
       "28840   -1\n",
       "14100   -1\n",
       "10723   -1\n",
       "10375   -1\n",
       "8801    -1\n",
       "17295   -1\n",
       "3322    -1\n",
       "9357    -1\n",
       "Name: hate, dtype: int64"
      ]
     },
     "execution_count": 30,
     "metadata": {},
     "output_type": "execute_result"
    }
   ],
   "source": [
    "y[15000:15010]"
   ]
  },
  {
   "cell_type": "code",
   "execution_count": null,
   "id": "76e5c3bb",
   "metadata": {},
   "outputs": [],
   "source": []
  },
  {
   "cell_type": "code",
   "execution_count": 31,
   "id": "1d89a590",
   "metadata": {},
   "outputs": [],
   "source": [
    "from sklearn.pipeline import Pipeline\n",
    "from sklearn.svm import SVC\n",
    "from sklearn.feature_extraction.text import TfidfVectorizer"
   ]
  },
  {
   "cell_type": "code",
   "execution_count": 32,
   "id": "84e750c7",
   "metadata": {},
   "outputs": [],
   "source": [
    "from sklearn.metrics import accuracy_score\n",
    "from sklearn.model_selection import StratifiedKFold\n",
    "from sklearn.utils import shuffle"
   ]
  },
  {
   "cell_type": "code",
   "execution_count": 33,
   "id": "7592e54c",
   "metadata": {},
   "outputs": [],
   "source": [
    "import numpy as np"
   ]
  },
  {
   "cell_type": "code",
   "execution_count": 34,
   "id": "c42b87ac",
   "metadata": {},
   "outputs": [],
   "source": [
    "x_values = np.arange(0.4, 1.05, 0.05)\n",
    "x_values = np.append(x_values, 0.99999)"
   ]
  },
  {
   "cell_type": "code",
   "execution_count": 35,
   "id": "5a32bfb2",
   "metadata": {},
   "outputs": [],
   "source": [
    "base_classifier = SVC(probability=True, gamma=0.001, random_state=42)"
   ]
  },
  {
   "cell_type": "code",
   "execution_count": null,
   "id": "13bd0e62",
   "metadata": {},
   "outputs": [
    {
     "name": "stdout",
     "output_type": "stream",
     "text": [
      "0\n",
      "0.3333\n",
      "1\n",
      "0.8333\n",
      "2\n",
      "0.8334\n",
      "0\n",
      "0.3333\n",
      "1\n",
      "0.8333\n",
      "2\n",
      "0.8334\n",
      "0\n",
      "0.3333\n",
      "1\n",
      "0.8333\n",
      "2\n",
      "0.8334\n",
      "0\n",
      "0.3333\n",
      "1\n",
      "0.8333\n",
      "2\n",
      "0.8334\n",
      "0\n",
      "0.3333\n"
     ]
    }
   ],
   "source": [
    "for i, threshold in enumerate(x_values):\n",
    "    self_training_clf = SelfTrainingClassifier(base_classifier, threshold=threshold)\n",
    "    \n",
    "    st_clf = Pipeline([\n",
    "     ('vectorizer_tfidf',TfidfVectorizer()),    \n",
    "     ('st', self_training_clf)         \n",
    "    ])\n",
    "\n",
    "    # We need manual cross validation so that we don't treat -1 as a separate\n",
    "    # class when computing accuracy\n",
    "    skfolds = StratifiedKFold(n_splits=3)\n",
    "    for fold, (train_index, test_index) in enumerate(skfolds.split(X, y)):\n",
    "        X_train = X[train_index]\n",
    "        y_train = y[train_index]\n",
    "        X_test = X[test_index]\n",
    "        y_test = y[test_index]\n",
    "        y_test_true = y_true[test_index]\n",
    "\n",
    "        st_clf.fit(X_train, y_train)\n",
    "\n",
    "        # The amount of labeled samples that at the end of fitting\n",
    "#         amount_labeled[i, fold] = (\n",
    "#             total_samples\n",
    "#             - np.unique(self_training_clf.labeled_iter_, return_counts=True)[1][0]\n",
    "#         )\n",
    "        # The last iteration the classifier labeled a sample in\n",
    "#         amount_iterations[i, fold] = np.max(self_training_clf.labeled_iter_)\n",
    "\n",
    "        y_pred = st_clf.predict(X_test)\n",
    "#         scores[i, fold] = accuracy_score(y_test_true, y_pred)\n",
    "#         print(fold)\n",
    "#         print(accuracy_score(y_test_true, y_pred))\n",
    "#         print(len(y_train))\n",
    "        print(fold)\n",
    "        print(accuracy_score(y_test_true, y_pred))"
   ]
  },
  {
   "cell_type": "code",
   "execution_count": null,
   "id": "a0e84996",
   "metadata": {},
   "outputs": [],
   "source": []
  }
 ],
 "metadata": {
  "kernelspec": {
   "display_name": "Python 3 (ipykernel)",
   "language": "python",
   "name": "python3"
  },
  "language_info": {
   "codemirror_mode": {
    "name": "ipython",
    "version": 3
   },
   "file_extension": ".py",
   "mimetype": "text/x-python",
   "name": "python",
   "nbconvert_exporter": "python",
   "pygments_lexer": "ipython3",
   "version": "3.9.12"
  }
 },
 "nbformat": 4,
 "nbformat_minor": 5
}
