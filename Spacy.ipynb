{
 "cells": [
  {
   "cell_type": "markdown",
   "id": "a2826989",
   "metadata": {},
   "source": [
    "- pip install spacy\n",
    "- python -m spacy download en"
   ]
  },
  {
   "cell_type": "code",
   "execution_count": 1,
   "id": "afc79e4d",
   "metadata": {},
   "outputs": [],
   "source": [
    "import spacy"
   ]
  },
  {
   "cell_type": "code",
   "execution_count": 5,
   "id": "d84dab9f",
   "metadata": {},
   "outputs": [],
   "source": [
    "nlp = spacy.load(\"en_core_web_sm\")\n",
    "\n",
    "doc = nlp(\"Dr. Strange loves pav bhaji of mumbai. Hulk loves chat of delhi\")"
   ]
  },
  {
   "cell_type": "code",
   "execution_count": 6,
   "id": "99098351",
   "metadata": {},
   "outputs": [
    {
     "name": "stdout",
     "output_type": "stream",
     "text": [
      "Dr. Strange loves pav bhaji of mumbai.\n",
      "Hulk loves chat of delhi\n"
     ]
    }
   ],
   "source": [
    "for sentence in doc.sents:\n",
    "    print(sentence)"
   ]
  },
  {
   "cell_type": "code",
   "execution_count": 37,
   "id": "40a5b674",
   "metadata": {},
   "outputs": [],
   "source": [
    "nlp = spacy.blank(\"bn\")"
   ]
  },
  {
   "cell_type": "code",
   "execution_count": 38,
   "id": "959311df",
   "metadata": {},
   "outputs": [],
   "source": [
    "def preprocess(text):\n",
    "    # remove stop words and lemmatize the text\n",
    "    doc = nlp(text)\n",
    "    \n",
    "    filtered_tokens = []\n",
    "    for token in doc:\n",
    "        if token.is_stop or token.is_punct:\n",
    "            continue\n",
    "        filtered_tokens.append(token.text)\n",
    "    \n",
    "    return \" \".join(filtered_tokens) "
   ]
  },
  {
   "cell_type": "code",
   "execution_count": 39,
   "id": "ef39b9eb",
   "metadata": {},
   "outputs": [
    {
     "data": {
      "text/plain": [
       "'যত্তসব পাপন শালার ফাজলামী ৳'"
      ]
     },
     "execution_count": 39,
     "metadata": {},
     "output_type": "execute_result"
    }
   ],
   "source": [
    "preprocess(\"যত্তসব পাপন শালার ফাজলামী!!!!! ৳\")"
   ]
  },
  {
   "cell_type": "code",
   "execution_count": null,
   "id": "34bca606",
   "metadata": {},
   "outputs": [],
   "source": []
  },
  {
   "cell_type": "code",
   "execution_count": null,
   "id": "850481e6",
   "metadata": {},
   "outputs": [],
   "source": []
  },
  {
   "cell_type": "code",
   "execution_count": null,
   "id": "7b15e647",
   "metadata": {},
   "outputs": [],
   "source": []
  },
  {
   "cell_type": "code",
   "execution_count": null,
   "id": "fe81723e",
   "metadata": {},
   "outputs": [],
   "source": [
    "def preprocess(text):\n",
    "    # remove stop words and lemmatize the text\n",
    "    doc = nlp(text)\n",
    "    \n",
    "    for token in doc:\n",
    "        print(token.is_punct)\n",
    "\n",
    "preprocess(\"যত্তসব পাপন শালার ফাজলামী!!!!! ৳\")\n"
   ]
  },
  {
   "cell_type": "code",
   "execution_count": 11,
   "id": "4bc0daf6",
   "metadata": {},
   "outputs": [
    {
     "name": "stdout",
     "output_type": "stream",
     "text": [
      "যত্তসব False\n",
      "পাপন False\n",
      "শালার False\n",
      "ফাজলামী False\n",
      "! False\n",
      "! False\n",
      "! False\n",
      "! False\n",
      "! False\n",
      "\t  False\n",
      "৳ True\n"
     ]
    }
   ],
   "source": [
    "doc = nlp(\"যত্তসব পাপন শালার ফাজলামী!!!!!\t ৳\")\n",
    "for token in doc:\n",
    "    print(token, token.is_currency)"
   ]
  },
  {
   "cell_type": "code",
   "execution_count": null,
   "id": "2561c43c",
   "metadata": {},
   "outputs": [],
   "source": []
  }
 ],
 "metadata": {
  "kernelspec": {
   "display_name": "Python 3 (ipykernel)",
   "language": "python",
   "name": "python3"
  },
  "language_info": {
   "codemirror_mode": {
    "name": "ipython",
    "version": 3
   },
   "file_extension": ".py",
   "mimetype": "text/x-python",
   "name": "python",
   "nbconvert_exporter": "python",
   "pygments_lexer": "ipython3",
   "version": "3.9.12"
  }
 },
 "nbformat": 4,
 "nbformat_minor": 5
}
