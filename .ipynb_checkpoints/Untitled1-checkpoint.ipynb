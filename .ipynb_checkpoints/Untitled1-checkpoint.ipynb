{
 "cells": [
  {
   "cell_type": "markdown",
   "id": "cb9d8d9f",
   "metadata": {},
   "source": [
    "## Load Data"
   ]
  },
  {
   "cell_type": "code",
   "execution_count": 61,
   "id": "5fc4dc2a",
   "metadata": {},
   "outputs": [],
   "source": [
    "import pandas as pd\n",
    "from sklearn.semi_supervised import SelfTrainingClassifier\n",
    "from sklearn.model_selection import train_test_split\n",
    "from sklearn.metrics import accuracy_score"
   ]
  },
  {
   "cell_type": "code",
   "execution_count": 85,
   "id": "84b73b38",
   "metadata": {},
   "outputs": [
    {
     "data": {
      "text/html": [
       "<div>\n",
       "<style scoped>\n",
       "    .dataframe tbody tr th:only-of-type {\n",
       "        vertical-align: middle;\n",
       "    }\n",
       "\n",
       "    .dataframe tbody tr th {\n",
       "        vertical-align: top;\n",
       "    }\n",
       "\n",
       "    .dataframe thead th {\n",
       "        text-align: right;\n",
       "    }\n",
       "</style>\n",
       "<table border=\"1\" class=\"dataframe\">\n",
       "  <thead>\n",
       "    <tr style=\"text-align: right;\">\n",
       "      <th></th>\n",
       "      <th>sentence</th>\n",
       "      <th>hate</th>\n",
       "      <th>category</th>\n",
       "    </tr>\n",
       "  </thead>\n",
       "  <tbody>\n",
       "    <tr>\n",
       "      <th>0</th>\n",
       "      <td>যত্তসব পাপন শালার ফাজলামী!!!!!</td>\n",
       "      <td>1.0</td>\n",
       "      <td>sports</td>\n",
       "    </tr>\n",
       "    <tr>\n",
       "      <th>1</th>\n",
       "      <td>পাপন শালা রে রিমান্ডে নেওয়া দরকার</td>\n",
       "      <td>1.0</td>\n",
       "      <td>sports</td>\n",
       "    </tr>\n",
       "    <tr>\n",
       "      <th>2</th>\n",
       "      <td>জিল্লুর রহমান স্যারের ছেলে এতো বড় জারজ হবে এটা...</td>\n",
       "      <td>1.0</td>\n",
       "      <td>sports</td>\n",
       "    </tr>\n",
       "    <tr>\n",
       "      <th>3</th>\n",
       "      <td>শালা লুচ্চা দেখতে পাঠার মত দেখা যায়</td>\n",
       "      <td>1.0</td>\n",
       "      <td>sports</td>\n",
       "    </tr>\n",
       "    <tr>\n",
       "      <th>4</th>\n",
       "      <td>তুই তো শালা গাজা খাইছচ।তুর মার হেডায় খেলবে সাকিব</td>\n",
       "      <td>1.0</td>\n",
       "      <td>sports</td>\n",
       "    </tr>\n",
       "  </tbody>\n",
       "</table>\n",
       "</div>"
      ],
      "text/plain": [
       "                                            sentence  hate category\n",
       "0                     যত্তসব পাপন শালার ফাজলামী!!!!!   1.0   sports\n",
       "1                  পাপন শালা রে রিমান্ডে নেওয়া দরকার   1.0   sports\n",
       "2  জিল্লুর রহমান স্যারের ছেলে এতো বড় জারজ হবে এটা...   1.0   sports\n",
       "3                শালা লুচ্চা দেখতে পাঠার মত দেখা যায়   1.0   sports\n",
       "4   তুই তো শালা গাজা খাইছচ।তুর মার হেডায় খেলবে সাকিব   1.0   sports"
      ]
     },
     "execution_count": 85,
     "metadata": {},
     "output_type": "execute_result"
    }
   ],
   "source": [
    "# Load the data\n",
    "df = pd.read_csv('data\\Bengali_hate_speech.csv')\n",
    "df.head()"
   ]
  },
  {
   "cell_type": "code",
   "execution_count": 86,
   "id": "70b47eb7-14ed-49e7-9259-c844c8534ecd",
   "metadata": {},
   "outputs": [
    {
     "data": {
      "text/plain": [
       "<Axes: xlabel='hate', ylabel='count'>"
      ]
     },
     "execution_count": 86,
     "metadata": {},
     "output_type": "execute_result"
    },
    {
     "data": {
      "image/png": "[encoded data removed]",
      "text/plain": [
       "<Figure size 640x480 with 1 Axes>"
      ]
     },
     "metadata": {},
     "output_type": "display_data"
    }
   ],
   "source": [
    "# Let's observe distribution of positive / negative sentiments in dataset\n",
    "\n",
    "import seaborn as sns\n",
    "sns.countplot(x='hate', data=df)"
   ]
  },
  {
   "cell_type": "markdown",
   "id": "3256d377",
   "metadata": {},
   "source": [
    "## Preprocessing"
   ]
  },
  {
   "cell_type": "code",
   "execution_count": 87,
   "id": "d8ed7086",
   "metadata": {},
   "outputs": [],
   "source": [
    "import spacy"
   ]
  },
  {
   "cell_type": "code",
   "execution_count": 88,
   "id": "fd413bb5",
   "metadata": {},
   "outputs": [],
   "source": [
    "nlp = spacy.blank(\"bn\")"
   ]
  },
  {
   "cell_type": "code",
   "execution_count": 89,
   "id": "17686fdc",
   "metadata": {},
   "outputs": [],
   "source": [
    "def preprocess(text):\n",
    "    # remove stop words and lemmatize the text\n",
    "    doc = nlp(text)\n",
    "    \n",
    "    filtered_tokens = []\n",
    "    for token in doc:\n",
    "        if token.is_stop or token.is_punct:\n",
    "            continue\n",
    "        filtered_tokens.append(token.text)\n",
    "    \n",
    "    return \" \".join(filtered_tokens) "
   ]
  },
  {
   "cell_type": "code",
   "execution_count": 90,
   "id": "3c5ce54b",
   "metadata": {},
   "outputs": [],
   "source": [
    "stop_words = nlp.Defaults.stop_words"
   ]
  },
  {
   "cell_type": "code",
   "execution_count": 91,
   "id": "729ff468",
   "metadata": {},
   "outputs": [],
   "source": [
    "df['preprocessed_sentence'] = df['sentence'].apply(preprocess) "
   ]
  },
  {
   "cell_type": "code",
   "execution_count": 92,
   "id": "983b2049",
   "metadata": {},
   "outputs": [],
   "source": [
    "import re\n",
    "\n",
    "def remove_emojis(text):\n",
    "    # Define a regex pattern for emojis\n",
    "    emoji_pattern = re.compile(\"[\"\n",
    "                               u\"\\U0001F600-\\U0001F64F\"  # emoticons\n",
    "                               u\"\\U0001F300-\\U0001F5FF\"  # symbols & pictographs\n",
    "                               u\"\\U0001F680-\\U0001F6FF\"  # transport & map symbols\n",
    "                               u\"\\U0001F700-\\U0001F77F\"  # alchemical symbols\n",
    "                               u\"\\U0001F780-\\U0001F7FF\"  # Geometric Shapes Extended\n",
    "                               u\"\\U0001F800-\\U0001F8FF\"  # Supplemental Arrows-C\n",
    "                               u\"\\U0001F900-\\U0001F9FF\"  # Supplemental Symbols and Pictographs\n",
    "                               u\"\\U0001FA00-\\U0001FA6F\"  # Chess Symbols\n",
    "                               u\"\\U0001FA70-\\U0001FAFF\"  # Symbols and Pictographs Extended-A\n",
    "                               u\"\\U00002702-\\U000027B0\"  # Dingbats\n",
    "                               u\"\\U000024C2-\\U0001F251\" \n",
    "                               \"]+\", flags=re.UNICODE)\n",
    "    return emoji_pattern.sub(r'', text).strip()"
   ]
  },
  {
   "cell_type": "code",
   "execution_count": 93,
   "id": "9cbbb622",
   "metadata": {},
   "outputs": [],
   "source": [
    "# Function to remove HTML tags\n",
    "def remove_html_tag(text):\n",
    "    br_pattern = re.compile(r'<\\s*br\\s*/?>,*,?')\n",
    "    return br_pattern.sub('', text)"
   ]
  },
  {
   "cell_type": "code",
   "execution_count": 94,
   "id": "4dfb28dd",
   "metadata": {},
   "outputs": [],
   "source": [
    "df['preprocessed_sentence'] = df['preprocessed_sentence'].apply(remove_emojis)\n",
    "df['preprocessed_sentence'] = df['preprocessed_sentence'].apply(remove_html_tag)"
   ]
  },
  {
   "cell_type": "markdown",
   "id": "0e57df48",
   "metadata": {},
   "source": [
    "## Seperate labeled and unlabeled data"
   ]
  },
  {
   "cell_type": "code",
   "execution_count": 95,
   "id": "f445470a",
   "metadata": {},
   "outputs": [
    {
     "data": {
      "text/html": [
       "<div>\n",
       "<style scoped>\n",
       "    .dataframe tbody tr th:only-of-type {\n",
       "        vertical-align: middle;\n",
       "    }\n",
       "\n",
       "    .dataframe tbody tr th {\n",
       "        vertical-align: top;\n",
       "    }\n",
       "\n",
       "    .dataframe thead th {\n",
       "        text-align: right;\n",
       "    }\n",
       "</style>\n",
       "<table border=\"1\" class=\"dataframe\">\n",
       "  <thead>\n",
       "    <tr style=\"text-align: right;\">\n",
       "      <th></th>\n",
       "      <th>hate</th>\n",
       "      <th>preprocessed_sentence</th>\n",
       "    </tr>\n",
       "  </thead>\n",
       "  <tbody>\n",
       "    <tr>\n",
       "      <th>0</th>\n",
       "      <td>1.0</td>\n",
       "      <td>যত্তসব পাপন শালার ফাজলামী</td>\n",
       "    </tr>\n",
       "    <tr>\n",
       "      <th>1</th>\n",
       "      <td>1.0</td>\n",
       "      <td>পাপন শালা রে রিমান্ডে দরকার</td>\n",
       "    </tr>\n",
       "    <tr>\n",
       "      <th>2</th>\n",
       "      <td>1.0</td>\n",
       "      <td>জিল্লুর রহমান স্যারের ছেলে এতো বড় জারজ ভাবতে প...</td>\n",
       "    </tr>\n",
       "  </tbody>\n",
       "</table>\n",
       "</div>"
      ],
      "text/plain": [
       "   hate                              preprocessed_sentence\n",
       "0   1.0                          যত্তসব পাপন শালার ফাজলামী\n",
       "1   1.0                        পাপন শালা রে রিমান্ডে দরকার\n",
       "2   1.0  জিল্লুর রহমান স্যারের ছেলে এতো বড় জারজ ভাবতে প..."
      ]
     },
     "execution_count": 95,
     "metadata": {},
     "output_type": "execute_result"
    }
   ],
   "source": [
    "df = df.drop(['sentence', 'category'], axis=1)\n",
    "df.head(3)"
   ]
  },
  {
   "cell_type": "code",
   "execution_count": 96,
   "id": "75fd675c",
   "metadata": {},
   "outputs": [],
   "source": [
    "# Separate labeled and unlabeled data\n",
    "labeled_data = df.dropna(subset=['hate'])\n",
    "unlabeled_data = df[df['hate'].isnull()].drop('hate', axis=1)"
   ]
  },
  {
   "cell_type": "markdown",
   "id": "e8528176",
   "metadata": {},
   "source": [
    "## Seperate feature and terget of labeled data"
   ]
  },
  {
   "cell_type": "code",
   "execution_count": 97,
   "id": "ddc78e31",
   "metadata": {},
   "outputs": [],
   "source": [
    "# Split labeled data into features and labels\n",
    "X_labeled = labeled_data['preprocessed_sentence']\n",
    "y_labeled = labeled_data['hate']"
   ]
  },
  {
   "cell_type": "code",
   "execution_count": 98,
   "id": "c5aec0b3",
   "metadata": {},
   "outputs": [],
   "source": [
    "# Split labeled data into training and validation sets\n",
    "X_train, X_test, y_train, y_test = train_test_split(X_labeled, y_labeled, test_size=0.2, random_state=32, stratify=y_labeled)"
   ]
  },
  {
   "cell_type": "markdown",
   "id": "a0ece2ec",
   "metadata": {},
   "source": [
    "## Preparing embedding layer"
   ]
  },
  {
   "cell_type": "code",
   "execution_count": null,
   "id": "3123b626",
   "metadata": {},
   "outputs": [],
   "source": [
    "from keras.preprocessing.text import one_hot, Tokenizer\n",
    "from keras.models import Sequential\n",
    "from keras.layers.core import Activation, Dropout, Dense\n",
    "from keras.layers import Flatten, GlobalMaxPooling1D, Embedding, Conv1D, LSTM, Bidirectional\n",
    "from sklearn.model_selection import train_test_split"
   ]
  },
  {
   "cell_type": "code",
   "execution_count": null,
   "id": "484de3e8",
   "metadata": {},
   "outputs": [],
   "source": [
    "from keras_preprocessing.sequence import pad_sequences"
   ]
  },
  {
   "cell_type": "code",
   "execution_count": null,
   "id": "1ed2eda5-f449-428b-b5ae-28e5c4cb345c",
   "metadata": {},
   "outputs": [],
   "source": [
    "# Embedding layer expects the words to be in numeric form \n",
    "# Using Tokenizer function from keras.preprocessing.text library\n",
    "# Method fit_on_text trains the tokenizer \n",
    "# Method texts_to_sequences converts sentences to their numeric form\n",
    "\n",
    "word_tokenizer = Tokenizer()\n",
    "word_tokenizer.fit_on_texts(X_train)\n",
    "\n",
    "X_train = word_tokenizer.texts_to_sequences(X_train)\n",
    "X_test = word_tokenizer.texts_to_sequences(X_test)"
   ]
  },
  {
   "cell_type": "code",
   "execution_count": null,
   "id": "f7692a0f-b375-4164-8478-4c155ffaebb2",
   "metadata": {},
   "outputs": [],
   "source": []
  },
  {
   "cell_type": "code",
   "execution_count": 20,
   "id": "2d21b86e-ffe9-4ea9-9d3f-72c296d81fc2",
   "metadata": {},
   "outputs": [],
   "source": [
    "import io\n",
    "import json"
   ]
  },
  {
   "cell_type": "code",
   "execution_count": 21,
   "id": "626bb018-2db8-4a14-a4b7-99693577201a",
   "metadata": {},
   "outputs": [],
   "source": [
    "# Saving\n",
    "tokenizer_json = word_tokenizer.to_json()\n",
    "with io.open('b3_tokenizer.json', 'w', encoding='utf-8') as f:\n",
    "    f.write(json.dumps(tokenizer_json, ensure_ascii=False))"
   ]
  },
  {
   "cell_type": "code",
   "execution_count": 22,
   "id": "f2ccbee3-0fbd-4a93-8d12-e9beb6cc3238",
   "metadata": {},
   "outputs": [
    {
     "data": {
      "text/plain": [
       "19009"
      ]
     },
     "execution_count": 22,
     "metadata": {},
     "output_type": "execute_result"
    }
   ],
   "source": [
    "# Adding 1 to store dimensions for words for which no pretrained word embeddings exist\n",
    "\n",
    "vocab_length = len(word_tokenizer.word_index) + 1\n",
    "\n",
    "vocab_length"
   ]
  },
  {
   "cell_type": "code",
   "execution_count": 23,
   "id": "a8bde2bf-fcee-4298-87b4-022d396487ad",
   "metadata": {},
   "outputs": [],
   "source": [
    "# Padding all reviews to fixed length 100\n",
    "\n",
    "maxlen = 100\n",
    "\n",
    "X_train = pad_sequences(X_train, padding='post', maxlen=maxlen)\n",
    "X_test = pad_sequences(X_test, padding='post', maxlen=maxlen)"
   ]
  },
  {
   "cell_type": "code",
   "execution_count": 24,
   "id": "ca4715b3-525b-459a-9b03-2df9cffdf82c",
   "metadata": {},
   "outputs": [],
   "source": [
    "# Load GloVe word embeddings and create an Embeddings Dictionary\n",
    "\n",
    "from numpy import asarray\n",
    "from numpy import zeros\n",
    "\n",
    "embeddings_dictionary = dict()\n",
    "glove_file = open('GloVe/a2_glove.6B.100d.txt', encoding=\"utf8\")\n",
    "\n",
    "for line in glove_file:\n",
    "    records = line.split()\n",
    "    word = records[0]\n",
    "    word\n",
    "    vector_dimensions = asarray(records[1:], dtype='float32')\n",
    "    embeddings_dictionary [word] = vector_dimensions\n",
    "glove_file.close()"
   ]
  },
  {
   "cell_type": "code",
   "execution_count": 56,
   "id": "e2ac127a-5b59-4f3a-8b2d-3529ca840815",
   "metadata": {},
   "outputs": [
    {
     "ename": "KeyError",
     "evalue": "'শালা'",
     "output_type": "error",
     "traceback": [
      "\u001b[1;31m---------------------------------------------------------------------------\u001b[0m",
      "\u001b[1;31mKeyError\u001b[0m                                  Traceback (most recent call last)",
      "Cell \u001b[1;32mIn[56], line 1\u001b[0m\n\u001b[1;32m----> 1\u001b[0m \u001b[43membeddings_dictionary\u001b[49m\u001b[43m[\u001b[49m\u001b[38;5;124;43m'\u001b[39;49m\u001b[38;5;124;43mশালা\u001b[39;49m\u001b[38;5;124;43m'\u001b[39;49m\u001b[43m]\u001b[49m\n",
      "\u001b[1;31mKeyError\u001b[0m: 'শালা'"
     ]
    }
   ],
   "source": [
    "embeddings_dictionary['শালা']"
   ]
  },
  {
   "cell_type": "code",
   "execution_count": 25,
   "id": "f45356b2-ada9-45c4-a3c2-120838e9f035",
   "metadata": {},
   "outputs": [],
   "source": [
    "# Create Embedding Matrix having 100 columns \n",
    "# Containing 100-dimensional GloVe word embeddings for all words in our corpus.\n",
    "\n",
    "embedding_matrix = zeros((vocab_length, 100))\n",
    "for word, index in word_tokenizer.word_index.items():\n",
    "    embedding_vector = embeddings_dictionary.get(word)\n",
    "    if embedding_vector is not None:\n",
    "        embedding_matrix[index] = embedding_vector"
   ]
  },
  {
   "cell_type": "code",
   "execution_count": 49,
   "id": "e9be00d7-3d8e-4ed2-82b7-87d37107ece6",
   "metadata": {},
   "outputs": [
    {
     "data": {
      "text/plain": [
       "0.0"
      ]
     },
     "execution_count": 49,
     "metadata": {},
     "output_type": "execute_result"
    }
   ],
   "source": [
    "embedding_matrix[500][0]"
   ]
  },
  {
   "cell_type": "code",
   "execution_count": 26,
   "id": "ed75265c-c20f-4bc7-98c9-473b972f3cab",
   "metadata": {},
   "outputs": [
    {
     "data": {
      "text/plain": [
       "(19009, 100)"
      ]
     },
     "execution_count": 26,
     "metadata": {},
     "output_type": "execute_result"
    }
   ],
   "source": [
    "embedding_matrix.shape"
   ]
  },
  {
   "cell_type": "markdown",
   "id": "fcd33837-5aa7-4418-8cc0-f5d31aa91497",
   "metadata": {},
   "source": [
    "## Model Training with Recurrent Neural Network (LSTM)"
   ]
  },
  {
   "cell_type": "code",
   "execution_count": 27,
   "id": "f562b993-ad6f-4b03-be54-81e07eb8149a",
   "metadata": {},
   "outputs": [],
   "source": [
    "from keras.layers import LSTM"
   ]
  },
  {
   "cell_type": "code",
   "execution_count": 37,
   "id": "e4682a63-c7b9-461d-8c61-f90bbc45c47c",
   "metadata": {},
   "outputs": [],
   "source": [
    "# Neural Network architecture\n",
    "\n",
    "lstm_model = Sequential()\n",
    "embedding_layer = Embedding(vocab_length, 100, weights=[embedding_matrix], input_length=maxlen , trainable=False)\n",
    "\n",
    "lstm_model.add(embedding_layer)\n",
    "lstm_model.add(Bidirectional(LSTM(128)))\n",
    "\n",
    "lstm_model.add(Dense(1, activation='sigmoid'))"
   ]
  },
  {
   "cell_type": "code",
   "execution_count": 38,
   "id": "988837be-00ae-409d-9de0-6e0164e660a1",
   "metadata": {},
   "outputs": [
    {
     "name": "stdout",
     "output_type": "stream",
     "text": [
      "Model: \"sequential_1\"\n",
      "_________________________________________________________________\n",
      " Layer (type)                Output Shape              Param #   \n",
      "=================================================================\n",
      " embedding_1 (Embedding)     (None, 100, 100)          1900900   \n",
      "                                                                 \n",
      " bidirectional (Bidirectiona  (None, 256)              234496    \n",
      " l)                                                              \n",
      "                                                                 \n",
      " dense_1 (Dense)             (None, 1)                 257       \n",
      "                                                                 \n",
      "=================================================================\n",
      "Total params: 2,135,653\n",
      "Trainable params: 234,753\n",
      "Non-trainable params: 1,900,900\n",
      "_________________________________________________________________\n",
      "None\n"
     ]
    }
   ],
   "source": [
    "# Model compiling\n",
    "\n",
    "lstm_model.compile(optimizer='adam', loss='binary_crossentropy', metrics=['acc'])\n",
    "print(lstm_model.summary())"
   ]
  },
  {
   "cell_type": "code",
   "execution_count": 39,
   "id": "b69a0b0b-d790-4fbb-a93a-18c5f5d07c71",
   "metadata": {},
   "outputs": [
    {
     "name": "stdout",
     "output_type": "stream",
     "text": [
      "Epoch 1/6\n",
      "50/50 [==============================] - 33s 401ms/step - loss: 0.6924 - acc: 0.5040 - val_loss: 0.6929 - val_acc: 0.4919\n",
      "Epoch 2/6\n",
      "50/50 [==============================] - 19s 379ms/step - loss: 0.6911 - acc: 0.5059 - val_loss: 0.6928 - val_acc: 0.4919\n",
      "Epoch 3/6\n",
      "50/50 [==============================] - 19s 375ms/step - loss: 0.6898 - acc: 0.5131 - val_loss: 0.6919 - val_acc: 0.4913\n",
      "Epoch 4/6\n",
      "50/50 [==============================] - 18s 349ms/step - loss: 0.6885 - acc: 0.5087 - val_loss: 0.6916 - val_acc: 0.4913\n",
      "Epoch 5/6\n",
      "50/50 [==============================] - 18s 366ms/step - loss: 0.6883 - acc: 0.5068 - val_loss: 0.6921 - val_acc: 0.4919\n",
      "Epoch 6/6\n",
      "50/50 [==============================] - 28s 565ms/step - loss: 0.6879 - acc: 0.5140 - val_loss: 0.6921 - val_acc: 0.4925\n"
     ]
    }
   ],
   "source": [
    "# Model Training\n",
    "\n",
    "lstm_model_history = lstm_model.fit(X_train, y_train, batch_size=128, epochs=6, verbose=1, validation_split=0.2)"
   ]
  },
  {
   "cell_type": "code",
   "execution_count": 31,
   "id": "8054bb66-9e34-492e-9480-09515314ae96",
   "metadata": {},
   "outputs": [
    {
     "name": "stdout",
     "output_type": "stream",
     "text": [
      "63/63 [==============================] - 1s 21ms/step - loss: 0.6932 - acc: 0.5000\n"
     ]
    }
   ],
   "source": [
    "# Predictions on the Test Set\n",
    "\n",
    "score = lstm_model.evaluate(X_test, y_test, verbose=1)"
   ]
  },
  {
   "cell_type": "code",
   "execution_count": 32,
   "id": "730761d1-3c15-4aca-971b-da20bc9e0cb9",
   "metadata": {},
   "outputs": [
    {
     "name": "stdout",
     "output_type": "stream",
     "text": [
      "Test Score: 0.693180501461029\n",
      "Test Accuracy: 0.5\n"
     ]
    }
   ],
   "source": [
    "# Model Performance\n",
    "\n",
    "print(\"Test Score:\", score[0])\n",
    "print(\"Test Accuracy:\", score[1])"
   ]
  },
  {
   "cell_type": "code",
   "execution_count": 34,
   "id": "fca59cc5-1df1-43dc-9602-2de002dfd5a5",
   "metadata": {
    "scrolled": true
   },
   "outputs": [
    {
     "name": "stdout",
     "output_type": "stream",
     "text": [
      "Collecting matplotlib\n",
      "  Downloading matplotlib-3.8.2-cp39-cp39-win_amd64.whl.metadata (5.9 kB)\n",
      "Collecting contourpy>=1.0.1 (from matplotlib)\n",
      "  Downloading contourpy-1.2.0-cp39-cp39-win_amd64.whl.metadata (5.8 kB)\n",
      "Collecting cycler>=0.10 (from matplotlib)\n",
      "  Downloading cycler-0.12.1-py3-none-any.whl.metadata (3.8 kB)\n",
      "Collecting fonttools>=4.22.0 (from matplotlib)\n",
      "  Downloading fonttools-4.46.0-cp39-cp39-win_amd64.whl.metadata (159 kB)\n",
      "     ---------------------------------------- 0.0/159.4 kB ? eta -:--:--\n",
      "     ------- ------------------------------- 30.7/159.4 kB 1.3 MB/s eta 0:00:01\n",
      "     --------- --------------------------- 41.0/159.4 kB 393.8 kB/s eta 0:00:01\n",
      "     ------------------------- ---------- 112.6/159.4 kB 939.4 kB/s eta 0:00:01\n",
      "     --------------------------- -------- 122.9/159.4 kB 722.1 kB/s eta 0:00:01\n",
      "     --------------------------- -------- 122.9/159.4 kB 722.1 kB/s eta 0:00:01\n",
      "     --------------------------- -------- 122.9/159.4 kB 722.1 kB/s eta 0:00:01\n",
      "     -------------------------------- --- 143.4/159.4 kB 473.7 kB/s eta 0:00:01\n",
      "     -------------------------------- --- 143.4/159.4 kB 473.7 kB/s eta 0:00:01\n",
      "     -------------------------------- --- 143.4/159.4 kB 473.7 kB/s eta 0:00:01\n",
      "     -------------------------------- --- 143.4/159.4 kB 473.7 kB/s eta 0:00:01\n",
      "     -------------------------------- --- 143.4/159.4 kB 473.7 kB/s eta 0:00:01\n",
      "     ------------------------------------ 159.4/159.4 kB 280.9 kB/s eta 0:00:00\n",
      "Collecting kiwisolver>=1.3.1 (from matplotlib)\n",
      "  Downloading kiwisolver-1.4.5-cp39-cp39-win_amd64.whl.metadata (6.5 kB)\n",
      "Requirement already satisfied: numpy<2,>=1.21 in c:\\programdata\\anaconda3\\envs\\tensorflow\\lib\\site-packages (from matplotlib) (1.26.0)\n",
      "Requirement already satisfied: packaging>=20.0 in c:\\programdata\\anaconda3\\envs\\tensorflow\\lib\\site-packages (from matplotlib) (23.1)\n",
      "Collecting pillow>=8 (from matplotlib)\n",
      "  Downloading Pillow-10.1.0-cp39-cp39-win_amd64.whl.metadata (9.6 kB)\n",
      "Collecting pyparsing>=2.3.1 (from matplotlib)\n",
      "  Downloading pyparsing-3.1.1-py3-none-any.whl.metadata (5.1 kB)\n",
      "Requirement already satisfied: python-dateutil>=2.7 in c:\\programdata\\anaconda3\\envs\\tensorflow\\lib\\site-packages (from matplotlib) (2.8.2)\n",
      "Collecting importlib-resources>=3.2.0 (from matplotlib)\n",
      "  Downloading importlib_resources-6.1.1-py3-none-any.whl.metadata (4.1 kB)\n",
      "Requirement already satisfied: zipp>=3.1.0 in c:\\programdata\\anaconda3\\envs\\tensorflow\\lib\\site-packages (from importlib-resources>=3.2.0->matplotlib) (3.11.0)\n",
      "Requirement already satisfied: six>=1.5 in c:\\programdata\\anaconda3\\envs\\tensorflow\\lib\\site-packages (from python-dateutil>=2.7->matplotlib) (1.16.0)\n",
      "Downloading matplotlib-3.8.2-cp39-cp39-win_amd64.whl (7.6 MB)\n",
      "   ---------------------------------------- 0.0/7.6 MB ? eta -:--:--\n",
      "   ---------------------------------------- 0.1/7.6 MB 2.0 MB/s eta 0:00:04\n",
      "    --------------------------------------- 0.1/7.6 MB 1.6 MB/s eta 0:00:05\n",
      "   - -------------------------------------- 0.2/7.6 MB 1.8 MB/s eta 0:00:05\n",
      "   - -------------------------------------- 0.3/7.6 MB 1.7 MB/s eta 0:00:05\n",
      "   -- ------------------------------------- 0.4/7.6 MB 1.7 MB/s eta 0:00:05\n",
      "   -- ------------------------------------- 0.5/7.6 MB 1.7 MB/s eta 0:00:05\n",
      "   -- ------------------------------------- 0.5/7.6 MB 1.8 MB/s eta 0:00:04\n",
      "   --- ------------------------------------ 0.6/7.6 MB 1.7 MB/s eta 0:00:05\n",
      "   --- ------------------------------------ 0.7/7.6 MB 1.7 MB/s eta 0:00:04\n",
      "   ---- ----------------------------------- 0.8/7.6 MB 1.7 MB/s eta 0:00:04\n",
      "   ---- ----------------------------------- 0.9/7.6 MB 1.7 MB/s eta 0:00:04\n",
      "   ----- ---------------------------------- 1.0/7.6 MB 1.8 MB/s eta 0:00:04\n",
      "   ----- ---------------------------------- 1.1/7.6 MB 1.8 MB/s eta 0:00:04\n",
      "   ------ --------------------------------- 1.1/7.6 MB 1.8 MB/s eta 0:00:04\n",
      "   ------ --------------------------------- 1.2/7.6 MB 1.8 MB/s eta 0:00:04\n",
      "   ------ --------------------------------- 1.3/7.6 MB 1.8 MB/s eta 0:00:04\n",
      "   ------- -------------------------------- 1.4/7.6 MB 1.8 MB/s eta 0:00:04\n",
      "   ------- -------------------------------- 1.5/7.6 MB 1.8 MB/s eta 0:00:04\n",
      "   -------- ------------------------------- 1.6/7.6 MB 1.8 MB/s eta 0:00:04\n",
      "   -------- ------------------------------- 1.7/7.6 MB 1.8 MB/s eta 0:00:04\n",
      "   --------- ------------------------------ 1.8/7.6 MB 1.8 MB/s eta 0:00:04\n",
      "   --------- ------------------------------ 1.9/7.6 MB 1.8 MB/s eta 0:00:04\n",
      "   ---------- ----------------------------- 1.9/7.6 MB 1.8 MB/s eta 0:00:04\n",
      "   ---------- ----------------------------- 1.9/7.6 MB 1.8 MB/s eta 0:00:04\n",
      "   ---------- ----------------------------- 1.9/7.6 MB 1.8 MB/s eta 0:00:04\n",
      "   ---------- ----------------------------- 2.0/7.6 MB 1.7 MB/s eta 0:00:04\n",
      "   ---------- ----------------------------- 2.1/7.6 MB 1.7 MB/s eta 0:00:04\n",
      "   ----------- ---------------------------- 2.1/7.6 MB 1.6 MB/s eta 0:00:04\n",
      "   ----------- ---------------------------- 2.1/7.6 MB 1.6 MB/s eta 0:00:04\n",
      "   ----------- ---------------------------- 2.1/7.6 MB 1.6 MB/s eta 0:00:04\n",
      "   ----------- ---------------------------- 2.1/7.6 MB 1.6 MB/s eta 0:00:04\n",
      "   ------------ --------------------------- 2.3/7.6 MB 1.5 MB/s eta 0:00:04\n",
      "   ------------ --------------------------- 2.3/7.6 MB 1.5 MB/s eta 0:00:04\n",
      "   ------------ --------------------------- 2.3/7.6 MB 1.5 MB/s eta 0:00:04\n",
      "   ------------ --------------------------- 2.3/7.6 MB 1.5 MB/s eta 0:00:04\n",
      "   ------------ --------------------------- 2.4/7.6 MB 1.4 MB/s eta 0:00:04\n",
      "   ------------ --------------------------- 2.5/7.6 MB 1.5 MB/s eta 0:00:04\n",
      "   ------------- -------------------------- 2.5/7.6 MB 1.4 MB/s eta 0:00:04\n",
      "   ------------- -------------------------- 2.5/7.6 MB 1.4 MB/s eta 0:00:04\n",
      "   ------------- -------------------------- 2.5/7.6 MB 1.4 MB/s eta 0:00:04\n",
      "   ------------- -------------------------- 2.6/7.6 MB 1.4 MB/s eta 0:00:04\n",
      "   ------------- -------------------------- 2.6/7.6 MB 1.4 MB/s eta 0:00:04\n",
      "   -------------- ------------------------- 2.7/7.6 MB 1.4 MB/s eta 0:00:04\n",
      "   -------------- ------------------------- 2.7/7.6 MB 1.4 MB/s eta 0:00:04\n",
      "   -------------- ------------------------- 2.8/7.6 MB 1.3 MB/s eta 0:00:04\n",
      "   -------------- ------------------------- 2.8/7.6 MB 1.3 MB/s eta 0:00:04\n",
      "   -------------- ------------------------- 2.8/7.6 MB 1.3 MB/s eta 0:00:04\n",
      "   --------------- ------------------------ 2.9/7.6 MB 1.3 MB/s eta 0:00:04\n",
      "   --------------- ------------------------ 3.0/7.6 MB 1.3 MB/s eta 0:00:04\n",
      "   --------------- ------------------------ 3.0/7.6 MB 1.3 MB/s eta 0:00:04\n",
      "   --------------- ------------------------ 3.0/7.6 MB 1.3 MB/s eta 0:00:04\n",
      "   ---------------- ----------------------- 3.2/7.6 MB 1.3 MB/s eta 0:00:04\n",
      "   ---------------- ----------------------- 3.2/7.6 MB 1.3 MB/s eta 0:00:04\n",
      "   ----------------- ---------------------- 3.3/7.6 MB 1.3 MB/s eta 0:00:04\n",
      "   ----------------- ---------------------- 3.4/7.6 MB 1.3 MB/s eta 0:00:04\n",
      "   ------------------ --------------------- 3.5/7.6 MB 1.4 MB/s eta 0:00:04\n",
      "   ------------------- -------------------- 3.6/7.6 MB 1.4 MB/s eta 0:00:03\n",
      "   ------------------- -------------------- 3.7/7.6 MB 1.4 MB/s eta 0:00:03\n",
      "   -------------------- ------------------- 3.9/7.6 MB 1.4 MB/s eta 0:00:03\n",
      "   -------------------- ------------------- 3.9/7.6 MB 1.4 MB/s eta 0:00:03\n",
      "   -------------------- ------------------- 4.0/7.6 MB 1.4 MB/s eta 0:00:03\n",
      "   -------------------- ------------------- 4.0/7.6 MB 1.4 MB/s eta 0:00:03\n",
      "   -------------------- ------------------- 4.0/7.6 MB 1.4 MB/s eta 0:00:03\n",
      "   --------------------- ------------------ 4.2/7.6 MB 1.4 MB/s eta 0:00:03\n",
      "   ---------------------- ----------------- 4.3/7.6 MB 1.4 MB/s eta 0:00:03\n",
      "   ---------------------- ----------------- 4.4/7.6 MB 1.4 MB/s eta 0:00:03\n",
      "   ----------------------- ---------------- 4.4/7.6 MB 1.4 MB/s eta 0:00:03\n",
      "   ----------------------- ---------------- 4.5/7.6 MB 1.4 MB/s eta 0:00:03\n",
      "   ------------------------ --------------- 4.6/7.6 MB 1.4 MB/s eta 0:00:03\n",
      "   ------------------------ --------------- 4.7/7.6 MB 1.4 MB/s eta 0:00:03\n",
      "   ------------------------ --------------- 4.7/7.6 MB 1.4 MB/s eta 0:00:03\n",
      "   ------------------------- -------------- 4.8/7.6 MB 1.4 MB/s eta 0:00:02\n",
      "   ------------------------- -------------- 4.9/7.6 MB 1.4 MB/s eta 0:00:02\n",
      "   -------------------------- ------------- 5.0/7.6 MB 1.4 MB/s eta 0:00:02\n",
      "   -------------------------- ------------- 5.0/7.6 MB 1.4 MB/s eta 0:00:02\n",
      "   -------------------------- ------------- 5.1/7.6 MB 1.4 MB/s eta 0:00:02\n",
      "   --------------------------- ------------ 5.2/7.6 MB 1.4 MB/s eta 0:00:02\n",
      "   --------------------------- ------------ 5.3/7.6 MB 1.5 MB/s eta 0:00:02\n",
      "   ---------------------------- ----------- 5.4/7.6 MB 1.5 MB/s eta 0:00:02\n",
      "   ---------------------------- ----------- 5.4/7.6 MB 1.5 MB/s eta 0:00:02\n",
      "   ---------------------------- ----------- 5.5/7.6 MB 1.5 MB/s eta 0:00:02\n",
      "   ----------------------------- ---------- 5.6/7.6 MB 1.5 MB/s eta 0:00:02\n",
      "   ----------------------------- ---------- 5.7/7.6 MB 1.5 MB/s eta 0:00:02\n",
      "   ----------------------------- ---------- 5.7/7.6 MB 1.5 MB/s eta 0:00:02\n",
      "   ------------------------------ --------- 5.8/7.6 MB 1.5 MB/s eta 0:00:02\n",
      "   ------------------------------ --------- 5.9/7.6 MB 1.5 MB/s eta 0:00:02\n",
      "   ------------------------------- -------- 5.9/7.6 MB 1.5 MB/s eta 0:00:02\n",
      "   ------------------------------- -------- 5.9/7.6 MB 1.5 MB/s eta 0:00:02\n",
      "   ------------------------------- -------- 5.9/7.6 MB 1.5 MB/s eta 0:00:02\n",
      "   ------------------------------- -------- 6.0/7.6 MB 1.4 MB/s eta 0:00:02\n",
      "   -------------------------------- ------- 6.2/7.6 MB 1.5 MB/s eta 0:00:01\n",
      "   -------------------------------- ------- 6.3/7.6 MB 1.5 MB/s eta 0:00:01\n",
      "   --------------------------------- ------ 6.3/7.6 MB 1.5 MB/s eta 0:00:01\n",
      "   --------------------------------- ------ 6.4/7.6 MB 1.5 MB/s eta 0:00:01\n",
      "   --------------------------------- ------ 6.4/7.6 MB 1.4 MB/s eta 0:00:01\n",
      "   ---------------------------------- ----- 6.5/7.6 MB 1.4 MB/s eta 0:00:01\n",
      "   ---------------------------------- ----- 6.6/7.6 MB 1.4 MB/s eta 0:00:01\n",
      "   ---------------------------------- ----- 6.6/7.6 MB 1.4 MB/s eta 0:00:01\n",
      "   ----------------------------------- ---- 6.7/7.6 MB 1.4 MB/s eta 0:00:01\n",
      "   ----------------------------------- ---- 6.7/7.6 MB 1.4 MB/s eta 0:00:01\n",
      "   ----------------------------------- ---- 6.8/7.6 MB 1.4 MB/s eta 0:00:01\n",
      "   ----------------------------------- ---- 6.9/7.6 MB 1.4 MB/s eta 0:00:01\n",
      "   ------------------------------------ --- 6.9/7.6 MB 1.4 MB/s eta 0:00:01\n",
      "   ------------------------------------ --- 7.0/7.6 MB 1.4 MB/s eta 0:00:01\n",
      "   ------------------------------------ --- 7.0/7.6 MB 1.4 MB/s eta 0:00:01\n",
      "   ------------------------------------- -- 7.1/7.6 MB 1.4 MB/s eta 0:00:01\n",
      "   ------------------------------------- -- 7.2/7.6 MB 1.4 MB/s eta 0:00:01\n",
      "   ------------------------------------- -- 7.2/7.6 MB 1.4 MB/s eta 0:00:01\n",
      "   -------------------------------------- - 7.3/7.6 MB 1.4 MB/s eta 0:00:01\n",
      "   -------------------------------------- - 7.3/7.6 MB 1.4 MB/s eta 0:00:01\n",
      "   -------------------------------------- - 7.4/7.6 MB 1.4 MB/s eta 0:00:01\n",
      "   ---------------------------------------  7.5/7.6 MB 1.4 MB/s eta 0:00:01\n",
      "   ---------------------------------------  7.5/7.6 MB 1.4 MB/s eta 0:00:01\n",
      "   ---------------------------------------  7.6/7.6 MB 1.4 MB/s eta 0:00:01\n",
      "   ---------------------------------------  7.6/7.6 MB 1.4 MB/s eta 0:00:01\n",
      "   ---------------------------------------  7.6/7.6 MB 1.4 MB/s eta 0:00:01\n",
      "   ---------------------------------------  7.6/7.6 MB 1.4 MB/s eta 0:00:01\n",
      "   ---------------------------------------  7.6/7.6 MB 1.4 MB/s eta 0:00:01\n",
      "   ---------------------------------------  7.6/7.6 MB 1.4 MB/s eta 0:00:01\n",
      "   ---------------------------------------  7.6/7.6 MB 1.4 MB/s eta 0:00:01\n",
      "   ---------------------------------------  7.6/7.6 MB 1.4 MB/s eta 0:00:01\n",
      "   ---------------------------------------  7.6/7.6 MB 1.4 MB/s eta 0:00:01\n",
      "   ---------------------------------------  7.6/7.6 MB 1.4 MB/s eta 0:00:01\n",
      "   ---------------------------------------  7.6/7.6 MB 1.4 MB/s eta 0:00:01\n",
      "   ---------------------------------------  7.6/7.6 MB 1.4 MB/s eta 0:00:01\n",
      "   ---------------------------------------  7.6/7.6 MB 1.4 MB/s eta 0:00:01\n",
      "   ---------------------------------------  7.6/7.6 MB 1.4 MB/s eta 0:00:01\n",
      "   ---------------------------------------  7.6/7.6 MB 1.4 MB/s eta 0:00:01\n",
      "   ---------------------------------------  7.6/7.6 MB 1.4 MB/s eta 0:00:01\n",
      "   ---------------------------------------  7.6/7.6 MB 1.4 MB/s eta 0:00:01\n",
      "   ---------------------------------------- 7.6/7.6 MB 1.2 MB/s eta 0:00:00\n",
      "Downloading contourpy-1.2.0-cp39-cp39-win_amd64.whl (181 kB)\n",
      "   ---------------------------------------- 0.0/181.9 kB ? eta -:--:--\n",
      "   --------------- ------------------------ 71.7/181.9 kB 2.0 MB/s eta 0:00:01\n",
      "   --------------------------- ------------ 122.9/181.9 kB 1.4 MB/s eta 0:00:01\n",
      "   -------------------------------------- - 174.1/181.9 kB 1.8 MB/s eta 0:00:01\n",
      "   ---------------------------------------- 181.9/181.9 kB 1.1 MB/s eta 0:00:00\n",
      "Downloading cycler-0.12.1-py3-none-any.whl (8.3 kB)\n",
      "Downloading fonttools-4.46.0-cp39-cp39-win_amd64.whl (2.2 MB)\n",
      "   ---------------------------------------- 0.0/2.2 MB ? eta -:--:--\n",
      "   - -------------------------------------- 0.1/2.2 MB 2.3 MB/s eta 0:00:01\n",
      "   -- ------------------------------------- 0.1/2.2 MB 1.7 MB/s eta 0:00:02\n",
      "   ---- ----------------------------------- 0.2/2.2 MB 1.7 MB/s eta 0:00:02\n",
      "   ----- ---------------------------------- 0.3/2.2 MB 1.6 MB/s eta 0:00:02\n",
      "   ------ --------------------------------- 0.4/2.2 MB 1.6 MB/s eta 0:00:02\n",
      "   -------- ------------------------------- 0.4/2.2 MB 1.6 MB/s eta 0:00:02\n",
      "   --------- ------------------------------ 0.5/2.2 MB 1.6 MB/s eta 0:00:02\n",
      "   ---------- ----------------------------- 0.6/2.2 MB 1.6 MB/s eta 0:00:01\n",
      "   ------------ --------------------------- 0.7/2.2 MB 1.6 MB/s eta 0:00:01\n",
      "   ------------- -------------------------- 0.7/2.2 MB 1.6 MB/s eta 0:00:01\n",
      "   -------------- ------------------------- 0.8/2.2 MB 1.6 MB/s eta 0:00:01\n",
      "   --------------- ------------------------ 0.9/2.2 MB 1.6 MB/s eta 0:00:01\n",
      "   ----------------- ---------------------- 1.0/2.2 MB 1.5 MB/s eta 0:00:01\n",
      "   ------------------ --------------------- 1.0/2.2 MB 1.5 MB/s eta 0:00:01\n",
      "   ------------------- -------------------- 1.0/2.2 MB 1.5 MB/s eta 0:00:01\n",
      "   ------------------- -------------------- 1.0/2.2 MB 1.5 MB/s eta 0:00:01\n",
      "   ------------------- -------------------- 1.0/2.2 MB 1.3 MB/s eta 0:00:01\n",
      "   -------------------- ------------------- 1.1/2.2 MB 1.3 MB/s eta 0:00:01\n",
      "   ----------------------- ---------------- 1.3/2.2 MB 1.4 MB/s eta 0:00:01\n",
      "   ----------------------- ---------------- 1.3/2.2 MB 1.4 MB/s eta 0:00:01\n",
      "   ------------------------ --------------- 1.4/2.2 MB 1.4 MB/s eta 0:00:01\n",
      "   ------------------------- -------------- 1.4/2.2 MB 1.4 MB/s eta 0:00:01\n",
      "   -------------------------- ------------- 1.5/2.2 MB 1.3 MB/s eta 0:00:01\n",
      "   --------------------------- ------------ 1.5/2.2 MB 1.3 MB/s eta 0:00:01\n",
      "   ---------------------------- ----------- 1.6/2.2 MB 1.3 MB/s eta 0:00:01\n",
      "   ----------------------------- ---------- 1.6/2.2 MB 1.3 MB/s eta 0:00:01\n",
      "   ------------------------------ --------- 1.7/2.2 MB 1.3 MB/s eta 0:00:01\n",
      "   ------------------------------- -------- 1.7/2.2 MB 1.3 MB/s eta 0:00:01\n",
      "   -------------------------------- ------- 1.8/2.2 MB 1.3 MB/s eta 0:00:01\n",
      "   --------------------------------- ------ 1.8/2.2 MB 1.3 MB/s eta 0:00:01\n",
      "   ----------------------------------- ---- 1.9/2.2 MB 1.3 MB/s eta 0:00:01\n",
      "   ----------------------------------- ---- 2.0/2.2 MB 1.3 MB/s eta 0:00:01\n",
      "   ------------------------------------- -- 2.0/2.2 MB 1.3 MB/s eta 0:00:01\n",
      "   -------------------------------------- - 2.1/2.2 MB 1.3 MB/s eta 0:00:01\n",
      "   ---------------------------------------  2.1/2.2 MB 1.3 MB/s eta 0:00:01\n",
      "   ---------------------------------------  2.2/2.2 MB 1.3 MB/s eta 0:00:01\n",
      "   ---------------------------------------  2.2/2.2 MB 1.3 MB/s eta 0:00:01\n",
      "   ---------------------------------------  2.2/2.2 MB 1.3 MB/s eta 0:00:01\n",
      "   ---------------------------------------  2.2/2.2 MB 1.3 MB/s eta 0:00:01\n",
      "   ---------------------------------------  2.2/2.2 MB 1.3 MB/s eta 0:00:01\n",
      "   ---------------------------------------- 2.2/2.2 MB 1.1 MB/s eta 0:00:00\n",
      "Downloading importlib_resources-6.1.1-py3-none-any.whl (33 kB)\n",
      "Downloading kiwisolver-1.4.5-cp39-cp39-win_amd64.whl (56 kB)\n",
      "   ---------------------------------------- 0.0/56.2 kB ? eta -:--:--\n",
      "   ------------------------------------ --- 51.2/56.2 kB 2.7 MB/s eta 0:00:01\n",
      "   ------------------------------------ --- 51.2/56.2 kB 2.7 MB/s eta 0:00:01\n",
      "   ---------------------------------------- 56.2/56.2 kB 589.2 kB/s eta 0:00:00\n",
      "Downloading Pillow-10.1.0-cp39-cp39-win_amd64.whl (2.6 MB)\n",
      "   ---------------------------------------- 0.0/2.6 MB ? eta -:--:--\n",
      "    --------------------------------------- 0.1/2.6 MB 1.6 MB/s eta 0:00:02\n",
      "   - -------------------------------------- 0.1/2.6 MB 1.3 MB/s eta 0:00:02\n",
      "   -- ------------------------------------- 0.2/2.6 MB 1.5 MB/s eta 0:00:02\n",
      "   --- ------------------------------------ 0.2/2.6 MB 1.3 MB/s eta 0:00:02\n",
      "   ---- ----------------------------------- 0.3/2.6 MB 1.4 MB/s eta 0:00:02\n",
      "   ----- ---------------------------------- 0.4/2.6 MB 1.3 MB/s eta 0:00:02\n",
      "   ------ --------------------------------- 0.4/2.6 MB 1.2 MB/s eta 0:00:02\n",
      "   ------- -------------------------------- 0.5/2.6 MB 1.3 MB/s eta 0:00:02\n",
      "   -------- ------------------------------- 0.5/2.6 MB 1.3 MB/s eta 0:00:02\n",
      "   -------- ------------------------------- 0.6/2.6 MB 1.3 MB/s eta 0:00:02\n",
      "   --------- ------------------------------ 0.6/2.6 MB 1.3 MB/s eta 0:00:02\n",
      "   ---------- ----------------------------- 0.7/2.6 MB 1.3 MB/s eta 0:00:02\n",
      "   ----------- ---------------------------- 0.8/2.6 MB 1.3 MB/s eta 0:00:02\n",
      "   ------------ --------------------------- 0.8/2.6 MB 1.3 MB/s eta 0:00:02\n",
      "   ------------- -------------------------- 0.9/2.6 MB 1.3 MB/s eta 0:00:02\n",
      "   -------------- ------------------------- 1.0/2.6 MB 1.3 MB/s eta 0:00:02\n",
      "   --------------- ------------------------ 1.0/2.6 MB 1.3 MB/s eta 0:00:02\n",
      "   ---------------- ----------------------- 1.1/2.6 MB 1.3 MB/s eta 0:00:02\n",
      "   ----------------- ---------------------- 1.1/2.6 MB 1.3 MB/s eta 0:00:02\n",
      "   ------------------ --------------------- 1.2/2.6 MB 1.3 MB/s eta 0:00:02\n",
      "   ------------------ --------------------- 1.2/2.6 MB 1.3 MB/s eta 0:00:02\n",
      "   ------------------- -------------------- 1.2/2.6 MB 1.3 MB/s eta 0:00:02\n",
      "   ------------------- -------------------- 1.2/2.6 MB 1.3 MB/s eta 0:00:02\n",
      "   -------------------- ------------------- 1.3/2.6 MB 1.2 MB/s eta 0:00:02\n",
      "   --------------------- ------------------ 1.4/2.6 MB 1.2 MB/s eta 0:00:01\n",
      "   ---------------------- ----------------- 1.5/2.6 MB 1.2 MB/s eta 0:00:01\n",
      "   ----------------------- ---------------- 1.5/2.6 MB 1.2 MB/s eta 0:00:01\n",
      "   ----------------------- ---------------- 1.6/2.6 MB 1.2 MB/s eta 0:00:01\n",
      "   ------------------------ --------------- 1.6/2.6 MB 1.2 MB/s eta 0:00:01\n",
      "   ------------------------- -------------- 1.6/2.6 MB 1.2 MB/s eta 0:00:01\n",
      "   ------------------------- -------------- 1.7/2.6 MB 1.2 MB/s eta 0:00:01\n",
      "   -------------------------- ------------- 1.7/2.6 MB 1.2 MB/s eta 0:00:01\n",
      "   --------------------------- ------------ 1.8/2.6 MB 1.2 MB/s eta 0:00:01\n",
      "   ---------------------------- ----------- 1.8/2.6 MB 1.2 MB/s eta 0:00:01\n",
      "   ---------------------------- ----------- 1.9/2.6 MB 1.2 MB/s eta 0:00:01\n",
      "   ----------------------------- ---------- 1.9/2.6 MB 1.2 MB/s eta 0:00:01\n",
      "   ------------------------------ --------- 2.0/2.6 MB 1.1 MB/s eta 0:00:01\n",
      "   ------------------------------- -------- 2.0/2.6 MB 1.2 MB/s eta 0:00:01\n",
      "   ------------------------------- -------- 2.1/2.6 MB 1.2 MB/s eta 0:00:01\n",
      "   -------------------------------- ------- 2.1/2.6 MB 1.1 MB/s eta 0:00:01\n",
      "   --------------------------------- ------ 2.2/2.6 MB 1.1 MB/s eta 0:00:01\n",
      "   ---------------------------------- ----- 2.2/2.6 MB 1.1 MB/s eta 0:00:01\n",
      "   ----------------------------------- ---- 2.3/2.6 MB 1.1 MB/s eta 0:00:01\n",
      "   ----------------------------------- ---- 2.3/2.6 MB 1.1 MB/s eta 0:00:01\n",
      "   ------------------------------------ --- 2.4/2.6 MB 1.1 MB/s eta 0:00:01\n",
      "   ------------------------------------- -- 2.5/2.6 MB 1.1 MB/s eta 0:00:01\n",
      "   -------------------------------------- - 2.5/2.6 MB 1.1 MB/s eta 0:00:01\n",
      "   ---------------------------------------  2.6/2.6 MB 1.1 MB/s eta 0:00:01\n",
      "   ---------------------------------------  2.6/2.6 MB 1.1 MB/s eta 0:00:01\n",
      "   ---------------------------------------- 2.6/2.6 MB 1.1 MB/s eta 0:00:00\n",
      "Downloading pyparsing-3.1.1-py3-none-any.whl (103 kB)\n",
      "   ---------------------------------------- 0.0/103.1 kB ? eta -:--:--\n",
      "   ----------------------- ---------------- 61.4/103.1 kB 1.1 MB/s eta 0:00:01\n",
      "   -------------------------------------- 103.1/103.1 kB 988.3 kB/s eta 0:00:00\n",
      "Installing collected packages: pyparsing, pillow, kiwisolver, importlib-resources, fonttools, cycler, contourpy, matplotlib\n",
      "Successfully installed contourpy-1.2.0 cycler-0.12.1 fonttools-4.46.0 importlib-resources-6.1.1 kiwisolver-1.4.5 matplotlib-3.8.2 pillow-10.1.0 pyparsing-3.1.1\n"
     ]
    }
   ],
   "source": [
    "!pip install matplotlib"
   ]
  },
  {
   "cell_type": "code",
   "execution_count": 35,
   "id": "0520015d-05bd-4258-b1cb-1ed06db5c76c",
   "metadata": {},
   "outputs": [
    {
     "data": {
      "image/png": "[encoded data removed]",
      "text/plain": [
       "<Figure size 640x480 with 1 Axes>"
      ]
     },
     "metadata": {},
     "output_type": "display_data"
    },
    {
     "data": {
      "image/png": "[encoded data removed]",
      "text/plain": [
       "<Figure size 640x480 with 1 Axes>"
      ]
     },
     "metadata": {},
     "output_type": "display_data"
    }
   ],
   "source": [
    "# Model Performance Charts\n",
    "\n",
    "import matplotlib.pyplot as plt\n",
    "\n",
    "plt.plot(lstm_model_history.history['acc'])\n",
    "plt.plot(lstm_model_history.history['val_acc'])\n",
    "\n",
    "plt.title('model accuracy')\n",
    "plt.ylabel('accuracy')\n",
    "plt.xlabel('epoch')\n",
    "plt.legend(['train','test'], loc='upper left')\n",
    "plt.show()\n",
    "\n",
    "plt.plot(lstm_model_history.history['loss'])\n",
    "plt.plot(lstm_model_history.history['val_loss'])\n",
    "\n",
    "plt.title('model loss')\n",
    "plt.ylabel('loss')\n",
    "plt.xlabel('epoch')\n",
    "plt.legend(['train','test'], loc='upper left')\n",
    "plt.show()"
   ]
  },
  {
   "cell_type": "code",
   "execution_count": null,
   "id": "9fb5cd36-acb9-424d-8e63-f8e5a17a2f04",
   "metadata": {},
   "outputs": [],
   "source": []
  }
 ],
 "metadata": {
  "kernelspec": {
   "display_name": "Python 3 (ipykernel)",
   "language": "python",
   "name": "python3"
  },
  "language_info": {
   "codemirror_mode": {
    "name": "ipython",
    "version": 3
   },
   "file_extension": ".py",
   "mimetype": "text/x-python",
   "name": "python",
   "nbconvert_exporter": "python",
   "pygments_lexer": "ipython3",
   "version": "3.9.18"
  }
 },
 "nbformat": 4,
 "nbformat_minor": 5
}
